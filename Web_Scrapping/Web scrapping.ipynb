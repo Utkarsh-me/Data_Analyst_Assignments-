{
 "cells": [
  {
   "cell_type": "markdown",
   "id": "bbbad6fe-4971-4490-b57c-34ce9a397826",
   "metadata": {},
   "source": [
    "# Web scapping from Amazon "
   ]
  },
  {
   "cell_type": "markdown",
   "id": "fe0845f9-4b23-4758-8294-57f81cc1836a",
   "metadata": {},
   "source": [
    "## Importing Libraries"
   ]
  },
  {
   "cell_type": "code",
   "execution_count": 24,
   "id": "8944e3b3-f392-4b46-a812-1dad30b692e3",
   "metadata": {},
   "outputs": [],
   "source": [
    "import requests\n",
    "from bs4 import BeautifulSoup\n",
    "import pandas as pd\n",
    "import re"
   ]
  },
  {
   "cell_type": "markdown",
   "id": "df34fef2-95fe-4438-a2cc-566a4aed74c5",
   "metadata": {},
   "source": [
    "## Creating a function to scrap the data from Amazon"
   ]
  },
  {
   "cell_type": "code",
   "execution_count": 28,
   "id": "d9121923-9413-43a7-884c-1c417a03f11b",
   "metadata": {},
   "outputs": [],
   "source": [
    "def amazon(search_query):\n",
    "    # Replace spaces in the search query with '+' for URL compatibility\n",
    "    search_query = search_query.replace(' ', '+')\n",
    "\n",
    "    # Base URL for Amazon search\n",
    "    url = f\"https://www.amazon.in/s?k={search_query}\"\n",
    "\n",
    "    # Headers to mimic a browser request\n",
    "    headers = {\n",
    "        \"User-Agent\": \"Mozilla/5.0 (Windows NT 10.0; Win64; x64) AppleWebKit/537.36 (KHTML, like Gecko) Chrome/91.0.4472.124 Safari/537.36\",\n",
    "        \"Accept-Language\": \"en-US,en;q=0.9\",\n",
    "    }\n",
    "\n",
    "    # Send HTTP GET request\n",
    "    response = requests.get(url, headers=headers)\n",
    "\n",
    "    if response.status_code != 200:\n",
    "        print(f\"Failed to fetch data from Amazon. Status Code: {response.status_code}\")\n",
    "        return\n",
    "\n",
    "    # Parse the HTML content\n",
    "    soup = BeautifulSoup(response.content, \"html.parser\")\n",
    "\n",
    "    # Lists to store the scraped data\n",
    "    product_names = []\n",
    "    product_prices = []\n",
    "    product_ratings = []\n",
    "\n",
    "    # Scrape product details\n",
    "    for product in soup.find_all(\"div\", {\"data-component-type\": \"s-search-result\"}):\n",
    "        # Product name\n",
    "        name = product.h2.text.strip() if product.h2 else None\n",
    "        product_names.append(name)\n",
    "\n",
    "        # Product price\n",
    "        price_whole = product.find(\"span\", class_=\"a-price-whole\")\n",
    "        price_fraction = product.find(\"span\", class_=\"a-price-fraction\")\n",
    "        if price_whole:\n",
    "            price = price_whole.text.strip()\n",
    "        else:\n",
    "            price = None\n",
    "        product_prices.append(price)\n",
    "\n",
    "        # Product rating\n",
    "        rating = product.find(\"span\", class_=\"a-icon-alt\")\n",
    "        if rating:\n",
    "            rating = re.search(r\"\\d+(\\.\\d+)?\", rating.text).group() if rating.text else None\n",
    "        product_ratings.append(rating)\n",
    "\n",
    "    # Save data to Excel\n",
    "    data = {\n",
    "        \"Product Name\": product_names,\n",
    "        \"Price (INR)\": product_prices,\n",
    "        \"Rating\": product_ratings,\n",
    "    }\n",
    "    df = pd.DataFrame(data)\n",
    "    file_name = f\"Amazon_{search_query}.xlsx\"\n",
    "    df.to_excel(file_name, index=False)\n",
    "\n",
    "    print(f\"Data scraped and saved to {file_name}\")\n",
    "\n",
    "    print(df.head(10))"
   ]
  },
  {
   "cell_type": "code",
   "execution_count": 29,
   "id": "595f241c-5eef-420a-9515-cd78d3bec93b",
   "metadata": {},
   "outputs": [
    {
     "name": "stdin",
     "output_type": "stream",
     "text": [
      "Enter the product to search on Amazon:  Lenovo legion 5\n"
     ]
    },
    {
     "name": "stdout",
     "output_type": "stream",
     "text": [
      "Data scraped and saved to Amazon_Lenovo+legion+5.xlsx\n",
      "                                        Product Name Price (INR) Rating\n",
      "0  Lenovo Legion Pro 7 Intel Core i9-14900HX 16\" ...    2,89,990    3.5\n",
      "1  Lenovo [Smartchoice LOQ 12th Gen Intel Core i5...      68,990    3.9\n",
      "2  Lenovo Legion 5 Intel Core i7-14650HX 16\" (40....    1,29,690    3.4\n",
      "3  Lenovo Legion 5 Intel Core i7-14650HX 16\" (40....    1,40,000    3.8\n",
      "4  Lenovo Legion 5 AMD Ryzen 7 5800H 15.6\" (39.62...      97,500    4.4\n",
      "5  (Refurbished) Lenovo Legion 5 AMD Ryzen 7 5800...      76,000    3.1\n",
      "6  (Refurbished) Lenovo Legion 5 Intel Core i7-14...      97,990   None\n",
      "7  Lenovo Legion 5 Pro AMD Ryzen 7 5800H 16\" (40....    1,03,190    4.2\n",
      "8  Lenovo Legion Slim 5 AI Powered Ryzen 7 7840HS...      99,990    3.5\n",
      "9  Lenovo Legion 5 Intel Core i7-14650HX 16\" (40....    1,67,990    4.6\n"
     ]
    }
   ],
   "source": [
    "# User input for search query\n",
    "if __name__ == \"__main__\":\n",
    "    query = input(\"Enter the product to search on Amazon: \")\n",
    "    amazon(query)\n"
   ]
  },
  {
   "cell_type": "code",
   "execution_count": null,
   "id": "5cbe4bab-36ef-4ca9-907b-d91cf34fb83e",
   "metadata": {},
   "outputs": [],
   "source": []
  }
 ],
 "metadata": {
  "kernelspec": {
   "display_name": "Python 3 (ipykernel)",
   "language": "python",
   "name": "python3"
  },
  "language_info": {
   "codemirror_mode": {
    "name": "ipython",
    "version": 3
   },
   "file_extension": ".py",
   "mimetype": "text/x-python",
   "name": "python",
   "nbconvert_exporter": "python",
   "pygments_lexer": "ipython3",
   "version": "3.11.7"
  }
 },
 "nbformat": 4,
 "nbformat_minor": 5
}
