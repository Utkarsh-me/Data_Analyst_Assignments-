{
 "cells": [
  {
   "cell_type": "markdown",
   "id": "57f1451b-dbc6-4ca6-855d-dc0401be18b4",
   "metadata": {},
   "source": [
    "# CRUD Operations on sales dataset."
   ]
  },
  {
   "cell_type": "markdown",
   "id": "a14ad174-db96-47c1-95e8-c8376f4427de",
   "metadata": {},
   "source": [
    "## Importing Libraries"
   ]
  },
  {
   "cell_type": "code",
   "execution_count": 5,
   "id": "d975eccb-b6ac-4411-b947-4ccceb47793f",
   "metadata": {},
   "outputs": [],
   "source": [
    "# 1. pandas : For manipulating dataset\n",
    "# 2. warnings : For Ignoring warnings "
   ]
  },
  {
   "cell_type": "code",
   "execution_count": 6,
   "id": "30db98d7-91b0-4726-9de4-f0d65a2b61ea",
   "metadata": {},
   "outputs": [],
   "source": [
    "import pandas as pd\n",
    "import warnings"
   ]
  },
  {
   "cell_type": "code",
   "execution_count": 7,
   "id": "2bf1f04f-fb0d-46ba-ad17-1eca48969606",
   "metadata": {},
   "outputs": [],
   "source": [
    "# code to ignore warnings\n",
    "\n",
    "warnings.filterwarnings('ignore')"
   ]
  },
  {
   "cell_type": "markdown",
   "id": "0adfad56-0b01-4132-9aee-5408dd47b8c7",
   "metadata": {},
   "source": [
    "## Let's have a look at Dataset"
   ]
  },
  {
   "cell_type": "code",
   "execution_count": 8,
   "id": "38e397ca-54eb-4a21-8705-26b1ec9a4bc5",
   "metadata": {},
   "outputs": [
    {
     "data": {
      "text/html": [
       "<div>\n",
       "<style scoped>\n",
       "    .dataframe tbody tr th:only-of-type {\n",
       "        vertical-align: middle;\n",
       "    }\n",
       "\n",
       "    .dataframe tbody tr th {\n",
       "        vertical-align: top;\n",
       "    }\n",
       "\n",
       "    .dataframe thead th {\n",
       "        text-align: right;\n",
       "    }\n",
       "</style>\n",
       "<table border=\"1\" class=\"dataframe\">\n",
       "  <thead>\n",
       "    <tr style=\"text-align: right;\">\n",
       "      <th></th>\n",
       "      <th>Unnamed: 0</th>\n",
       "      <th>Order ID</th>\n",
       "      <th>Product</th>\n",
       "      <th>Quantity Ordered</th>\n",
       "      <th>Price Each</th>\n",
       "      <th>Order Date</th>\n",
       "      <th>Purchase Address</th>\n",
       "      <th>Quantity</th>\n",
       "      <th>Price</th>\n",
       "      <th>Date</th>\n",
       "      <th>Address</th>\n",
       "    </tr>\n",
       "  </thead>\n",
       "  <tbody>\n",
       "    <tr>\n",
       "      <th>0</th>\n",
       "      <td>0.0</td>\n",
       "      <td>295665</td>\n",
       "      <td>Macbook Pro Laptop</td>\n",
       "      <td>1</td>\n",
       "      <td>1700.00</td>\n",
       "      <td>2019-12-30 00:01:00</td>\n",
       "      <td>136 Church St, New York City, NY 10001</td>\n",
       "      <td>NaN</td>\n",
       "      <td>NaN</td>\n",
       "      <td>NaN</td>\n",
       "      <td>NaN</td>\n",
       "    </tr>\n",
       "    <tr>\n",
       "      <th>1</th>\n",
       "      <td>1.0</td>\n",
       "      <td>295666</td>\n",
       "      <td>LG Washing Machine</td>\n",
       "      <td>1</td>\n",
       "      <td>600.00</td>\n",
       "      <td>2019-12-29 07:03:00</td>\n",
       "      <td>562 2nd St, New York City, NY 10001</td>\n",
       "      <td>NaN</td>\n",
       "      <td>NaN</td>\n",
       "      <td>NaN</td>\n",
       "      <td>NaN</td>\n",
       "    </tr>\n",
       "    <tr>\n",
       "      <th>2</th>\n",
       "      <td>2.0</td>\n",
       "      <td>295667</td>\n",
       "      <td>USB-C Charging Cable</td>\n",
       "      <td>1</td>\n",
       "      <td>11.95</td>\n",
       "      <td>2019-12-12 18:21:00</td>\n",
       "      <td>277 Main St, New York City, NY 10001</td>\n",
       "      <td>NaN</td>\n",
       "      <td>NaN</td>\n",
       "      <td>NaN</td>\n",
       "      <td>NaN</td>\n",
       "    </tr>\n",
       "    <tr>\n",
       "      <th>3</th>\n",
       "      <td>3.0</td>\n",
       "      <td>295668</td>\n",
       "      <td>27in FHD Monitor</td>\n",
       "      <td>1</td>\n",
       "      <td>149.99</td>\n",
       "      <td>2019-12-22 15:13:00</td>\n",
       "      <td>410 6th St, San Francisco, CA 94016</td>\n",
       "      <td>NaN</td>\n",
       "      <td>NaN</td>\n",
       "      <td>NaN</td>\n",
       "      <td>NaN</td>\n",
       "    </tr>\n",
       "    <tr>\n",
       "      <th>4</th>\n",
       "      <td>4.0</td>\n",
       "      <td>295669</td>\n",
       "      <td>USB-C Charging Cable</td>\n",
       "      <td>1</td>\n",
       "      <td>11.95</td>\n",
       "      <td>2019-12-18 12:38:00</td>\n",
       "      <td>43 Hill St, Atlanta, GA 30301</td>\n",
       "      <td>NaN</td>\n",
       "      <td>NaN</td>\n",
       "      <td>NaN</td>\n",
       "      <td>NaN</td>\n",
       "    </tr>\n",
       "  </tbody>\n",
       "</table>\n",
       "</div>"
      ],
      "text/plain": [
       "   Unnamed: 0  Order ID               Product  Quantity Ordered  Price Each  \\\n",
       "0         0.0    295665    Macbook Pro Laptop                 1     1700.00   \n",
       "1         1.0    295666    LG Washing Machine                 1      600.00   \n",
       "2         2.0    295667  USB-C Charging Cable                 1       11.95   \n",
       "3         3.0    295668      27in FHD Monitor                 1      149.99   \n",
       "4         4.0    295669  USB-C Charging Cable                 1       11.95   \n",
       "\n",
       "            Order Date                        Purchase Address  Quantity  \\\n",
       "0  2019-12-30 00:01:00  136 Church St, New York City, NY 10001       NaN   \n",
       "1  2019-12-29 07:03:00     562 2nd St, New York City, NY 10001       NaN   \n",
       "2  2019-12-12 18:21:00    277 Main St, New York City, NY 10001       NaN   \n",
       "3  2019-12-22 15:13:00     410 6th St, San Francisco, CA 94016       NaN   \n",
       "4  2019-12-18 12:38:00           43 Hill St, Atlanta, GA 30301       NaN   \n",
       "\n",
       "   Price Date Address  \n",
       "0    NaN  NaN     NaN  \n",
       "1    NaN  NaN     NaN  \n",
       "2    NaN  NaN     NaN  \n",
       "3    NaN  NaN     NaN  \n",
       "4    NaN  NaN     NaN  "
      ]
     },
     "execution_count": 8,
     "metadata": {},
     "output_type": "execute_result"
    }
   ],
   "source": [
    "dataset = pd.read_csv('sales_dataset.csv')\n",
    "\n",
    "# Displaying first 5 rows of dataset \n",
    "dataset.head()"
   ]
  },
  {
   "cell_type": "markdown",
   "id": "39c33382-1022-48c3-8fc8-5b284c94632d",
   "metadata": {},
   "source": [
    "## Function to read the data"
   ]
  },
  {
   "cell_type": "code",
   "execution_count": 9,
   "id": "978a4577-5990-4235-92d1-74fbc0bca54c",
   "metadata": {},
   "outputs": [],
   "source": [
    "def read_data():\n",
    "    df = pd.read_csv('sales_dataset.csv')\n",
    "    return df"
   ]
  },
  {
   "cell_type": "markdown",
   "id": "a26fab1f-3600-432c-a841-4a13c8f691ea",
   "metadata": {},
   "source": [
    "# Create: Insert new records into the dataset. \n",
    "The code below will accept the parameters for creating a new row that can be added in the dataset. \n",
    "### Flow of this function will be like :- \n",
    "1. Accepting parameters\n",
    "2. Checking if the dataset is available or not.\n",
    "3. If found , will append the row in the dataset and print Success Message\n",
    "4. If not found, will print Unsuccess message"
   ]
  },
  {
   "cell_type": "code",
   "execution_count": 10,
   "id": "ee0d751e-bc17-4fc4-b544-b0807307f822",
   "metadata": {},
   "outputs": [],
   "source": [
    "def create_row(ID, Product, Quantity, Price, Date, Address):\n",
    "\n",
    "    new_row = pd.DataFrame({'Order ID': [ID], 'Product': [Product], 'Quantity Ordered': [Quantity], 'Price Each': [Price], 'Order Date': [Date],'Purchase Address': [Address]})\n",
    "\n",
    "    df = read_data()\n",
    "    file_path = 'sales_dataset.csv'\n",
    "    #Append row in the dataset df\n",
    "    if df is not None:\n",
    "        df = pd.concat([df, new_row], ignore_index=True)\n",
    "        df.to_csv(file_path, index=False)\n",
    "        print(f\"Record with ID {ID} added successfully.\")\n",
    "    else:\n",
    "        print(\"Failed to create record. CSV file not found.\")"
   ]
  },
  {
   "cell_type": "markdown",
   "id": "0c39f4ae-1769-43d7-bbf9-875257b0b352",
   "metadata": {
    "jp-MarkdownHeadingCollapsed": true
   },
   "source": [
    "# Read: Retrieve and display specific records from the dataset. \r",
    "The code below will accept the ID passed during function call , and will print the record assicoated with the particular ID.\n",
    "\n",
    "### Flow of this function will be like :-\n",
    "1. Accepting parmeters (ID).\n",
    "2. Checking if the dataset is available or not.\n",
    "3. If found , will read the ID and check Whether the particular record is empty or not.\n",
    "4. If record is found not empty , will return the record associated with particular ID.\n",
    "5. If found empty, will print \"Not Found\".\n",
    "6. Else , print Unsuccess Message."
   ]
  },
  {
   "cell_type": "code",
   "execution_count": 17,
   "id": "3297e42a-629f-43e3-a525-e2fdade4c25b",
   "metadata": {},
   "outputs": [],
   "source": [
    "def read_row(id):\n",
    "    df = read_data()\n",
    "    file_path = 'sales_dataset.csv'\n",
    "    \n",
    "    if df is not None:\n",
    "        record = df[df['Order ID'] == id]\n",
    "        if not record.empty:\n",
    "            print(f\"Record with ID {id}:\\n\", record)\n",
    "        else:\n",
    "            print(f\"Record with ID {id} not found.\")\n",
    "    else:\n",
    "        print(\"Failed to read record. CSV file not found.\")"
   ]
  },
  {
   "cell_type": "markdown",
   "id": "c3b11100-2b4d-4d11-b774-e50462c8f323",
   "metadata": {
    "jp-MarkdownHeadingCollapsed": true
   },
   "source": [
    "# Update: Modify existing records in the dataset. \n",
    "This function will modify the particular record.\n",
    "\n",
    "#### Flow of this function will be like:-\n",
    "1. Will accept parameters.\n",
    "2. Checking if the dataset is available or not.\n",
    "3. If dataset found, will read the ID , and check whether the record exists or not.\n",
    "4. If exists, will assign new value to every variable, and print success message.\n",
    "5. Else, print unsuccessful message."
   ]
  },
  {
   "cell_type": "code",
   "execution_count": 20,
   "id": "43462d0c-aafd-4f54-ab3a-c6e606e2e07f",
   "metadata": {},
   "outputs": [],
   "source": [
    "def update_row(ID=None, Product=None, Quantity=None, Price=None, Date=None, Address=None):\n",
    "    df = read_data()\n",
    "    file_path = 'sales_dataset.csv'\n",
    "\n",
    "    if df is not None:\n",
    "        index = df[df['Order ID'] == ID].index\n",
    "        if not index.empty:\n",
    "            if Product:\n",
    "                df.loc[index, 'Product'] = Product\n",
    "            if Quantity:\n",
    "                df.loc[index, 'Quantity'] = Quantity\n",
    "            if Price:\n",
    "                df.loc[index, 'Price'] = Price \n",
    "            if Date:\n",
    "                df.loc[index, 'Date'] = Date\n",
    "            if Address:\n",
    "                df.loc[index, 'Address'] = Address\n",
    "\n",
    "            df.to_csv(file_path, index=False)\n",
    "            print(f\"Record with {ID} updated successfully.\")\n",
    "        else:\n",
    "            print(f\"Record with ID {ID} not found\")\n",
    "    else:\n",
    "        prinnt(\"Failed to update record. CSV file not found\")"
   ]
  },
  {
   "cell_type": "markdown",
   "id": "477c5332-4f9d-4b3b-a047-aa0ad649d180",
   "metadata": {
    "jp-MarkdownHeadingCollapsed": true
   },
   "source": [
    "# Delete: Remove specific records from the dataset. \n",
    "This  function will remove a record from dataset.\n",
    "\n",
    "### Flow of this function will be like:-\n",
    "1. Check if dataset is avaliable.\n",
    "2. If available, check ID and remove the record associated with ID.\n",
    "3. Else, Print Unsuccess message."
   ]
  },
  {
   "cell_type": "code",
   "execution_count": 21,
   "id": "668888b4-950d-435f-bb23-801143ae08cb",
   "metadata": {},
   "outputs": [],
   "source": [
    "def delete_row(ID):\n",
    "    df = read_data()\n",
    "    file_path = 'sales_dataset.csv'\n",
    "\n",
    "    if df is not None:\n",
    "        df = df[df['Order ID'] != ID]\n",
    "        df.to_csv(file_path, index = False)\n",
    "        print(f\"Record with ID {ID} deleted successfully.\")\n",
    "    else:\n",
    "        print(\"Failed to delete record. CSV file not found.\")"
   ]
  },
  {
   "cell_type": "markdown",
   "id": "b581e751-3198-480f-b21b-d0e702913525",
   "metadata": {
    "jp-MarkdownHeadingCollapsed": true
   },
   "source": [
    "# Demonstration of CRUD operations."
   ]
  },
  {
   "cell_type": "code",
   "execution_count": 15,
   "id": "55b362f5-f128-483e-868d-09a7d6ff0732",
   "metadata": {},
   "outputs": [
    {
     "name": "stdout",
     "output_type": "stream",
     "text": [
      "Record with ID 101 added successfully.\n"
     ]
    }
   ],
   "source": [
    "# Create record\n",
    "create_row(101, 'Laptop', 1, 55000, '23-7-2024', 'Sambhajinagar')"
   ]
  },
  {
   "cell_type": "code",
   "execution_count": 18,
   "id": "1f0dbb65-d204-402b-b7b5-6f64b8ddd007",
   "metadata": {},
   "outputs": [
    {
     "name": "stdout",
     "output_type": "stream",
     "text": [
      "Record with ID 101:\n",
      "         Unnamed: 0  Order ID Product  Quantity Ordered  Price Each Order Date  \\\n",
      "185950         NaN       101  Laptop                 1     55000.0  23-7-2024   \n",
      "\n",
      "       Purchase Address  Quantity  Price Date Address  \n",
      "185950    Sambhajinagar       NaN    NaN  NaN     NaN  \n"
     ]
    }
   ],
   "source": [
    "# Read record\n",
    "read_row(101)"
   ]
  },
  {
   "cell_type": "code",
   "execution_count": 22,
   "id": "d66b8547-15c2-405f-9795-a38c4e5053cd",
   "metadata": {},
   "outputs": [
    {
     "name": "stdout",
     "output_type": "stream",
     "text": [
      "Record with 101 updated successfully.\n"
     ]
    }
   ],
   "source": [
    "# Update record\n",
    "update_row(101, 'Lenovo Laptop', 1, 60000, '23-7-2024', 'Nirala bazar, Sambhajinagar')"
   ]
  },
  {
   "cell_type": "code",
   "execution_count": 23,
   "id": "bbad88a7-80cf-4c17-920c-ac5b9e4cf8bc",
   "metadata": {},
   "outputs": [
    {
     "name": "stdout",
     "output_type": "stream",
     "text": [
      "Record with ID 101:\n",
      "         Unnamed: 0  Order ID        Product  Quantity Ordered  Price Each  \\\n",
      "185950         NaN       101  Lenovo Laptop                 1     55000.0   \n",
      "\n",
      "       Order Date Purchase Address  Quantity    Price       Date  \\\n",
      "185950  23-7-2024    Sambhajinagar       1.0  60000.0  23-7-2024   \n",
      "\n",
      "                            Address  \n",
      "185950  Nirala bazar, Sambhajinagar  \n"
     ]
    }
   ],
   "source": [
    "# fetch updated record\n",
    "read_row(101)"
   ]
  },
  {
   "cell_type": "code",
   "execution_count": 25,
   "id": "c7bd9974-92fc-4637-8cec-c215618e126b",
   "metadata": {},
   "outputs": [
    {
     "name": "stdout",
     "output_type": "stream",
     "text": [
      "Record with ID 101 deleted successfully.\n"
     ]
    }
   ],
   "source": [
    "# delete record\n",
    "delete_row(101)"
   ]
  },
  {
   "cell_type": "code",
   "execution_count": null,
   "id": "df4abaa9-ec3f-429b-8d38-a13296d81ab0",
   "metadata": {},
   "outputs": [],
   "source": []
  }
 ],
 "metadata": {
  "kernelspec": {
   "display_name": "Python 3 (ipykernel)",
   "language": "python",
   "name": "python3"
  },
  "language_info": {
   "codemirror_mode": {
    "name": "ipython",
    "version": 3
   },
   "file_extension": ".py",
   "mimetype": "text/x-python",
   "name": "python",
   "nbconvert_exporter": "python",
   "pygments_lexer": "ipython3",
   "version": "3.11.7"
  }
 },
 "nbformat": 4,
 "nbformat_minor": 5
}
